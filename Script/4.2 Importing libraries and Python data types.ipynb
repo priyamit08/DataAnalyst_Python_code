{
 "cells": [
  {
   "cell_type": "markdown",
   "id": "0b04ab45",
   "metadata": {},
   "source": [
    "# 01. Importing libraries"
   ]
  },
  {
   "cell_type": "code",
   "execution_count": 6,
   "id": "e6817008",
   "metadata": {},
   "outputs": [],
   "source": [
    "import pandas as pd\n",
    "import numpy as np\n",
    "import os"
   ]
  },
  {
   "cell_type": "markdown",
   "id": "e5a88f02",
   "metadata": {},
   "source": [
    "# Python Data Types"
   ]
  },
  {
   "cell_type": "markdown",
   "id": "e0a689bb",
   "metadata": {},
   "source": [
    "## Integer"
   ]
  },
  {
   "cell_type": "code",
   "execution_count": 36,
   "id": "b6a10603",
   "metadata": {},
   "outputs": [],
   "source": [
    "x = 20"
   ]
  },
  {
   "cell_type": "code",
   "execution_count": 37,
   "id": "21c6f608",
   "metadata": {},
   "outputs": [],
   "source": [
    "y = 80"
   ]
  },
  {
   "cell_type": "code",
   "execution_count": 38,
   "id": "8c3e9d21",
   "metadata": {},
   "outputs": [
    {
     "data": {
      "text/plain": [
       "100"
      ]
     },
     "execution_count": 38,
     "metadata": {},
     "output_type": "execute_result"
    }
   ],
   "source": [
    "x + y"
   ]
  },
  {
   "cell_type": "code",
   "execution_count": 39,
   "id": "30ed479c",
   "metadata": {},
   "outputs": [],
   "source": [
    "z = 180"
   ]
  },
  {
   "cell_type": "code",
   "execution_count": 40,
   "id": "8c9f2a51",
   "metadata": {},
   "outputs": [
    {
     "data": {
      "text/plain": [
       "100"
      ]
     },
     "execution_count": 40,
     "metadata": {},
     "output_type": "execute_result"
    }
   ],
   "source": [
    "z - y"
   ]
  },
  {
   "cell_type": "code",
   "execution_count": 41,
   "id": "c163d590",
   "metadata": {},
   "outputs": [
    {
     "data": {
      "text/plain": [
       "100"
      ]
     },
     "execution_count": 41,
     "metadata": {},
     "output_type": "execute_result"
    }
   ],
   "source": [
    "x * 5"
   ]
  },
  {
   "cell_type": "markdown",
   "id": "334dfe1e",
   "metadata": {},
   "source": [
    "## Floating Number"
   ]
  },
  {
   "cell_type": "code",
   "execution_count": 42,
   "id": "ac6b738e",
   "metadata": {},
   "outputs": [],
   "source": [
    "a = 5.67"
   ]
  },
  {
   "cell_type": "code",
   "execution_count": 43,
   "id": "bb4685d7",
   "metadata": {},
   "outputs": [
    {
     "data": {
      "text/plain": [
       "float"
      ]
     },
     "execution_count": 43,
     "metadata": {},
     "output_type": "execute_result"
    }
   ],
   "source": [
    "type(a)"
   ]
  },
  {
   "cell_type": "code",
   "execution_count": 44,
   "id": "a4eedca2",
   "metadata": {},
   "outputs": [],
   "source": [
    "b = 4.2"
   ]
  },
  {
   "cell_type": "code",
   "execution_count": 45,
   "id": "33a06470",
   "metadata": {},
   "outputs": [
    {
     "data": {
      "text/plain": [
       "1.3499999999999999"
      ]
     },
     "execution_count": 45,
     "metadata": {},
     "output_type": "execute_result"
    }
   ],
   "source": [
    "a / b"
   ]
  },
  {
   "cell_type": "markdown",
   "id": "e3d499b8",
   "metadata": {},
   "source": [
    "## String"
   ]
  },
  {
   "cell_type": "code",
   "execution_count": 49,
   "id": "13eb005f",
   "metadata": {},
   "outputs": [],
   "source": [
    "p = 'Priyanka, '"
   ]
  },
  {
   "cell_type": "code",
   "execution_count": 47,
   "id": "d199daf8",
   "metadata": {},
   "outputs": [],
   "source": [
    "m = 'Mittal'"
   ]
  },
  {
   "cell_type": "code",
   "execution_count": 50,
   "id": "0bac2afa",
   "metadata": {},
   "outputs": [
    {
     "data": {
      "text/plain": [
       "'Priyanka, Mittal'"
      ]
     },
     "execution_count": 50,
     "metadata": {},
     "output_type": "execute_result"
    }
   ],
   "source": [
    "p + m"
   ]
  },
  {
   "cell_type": "code",
   "execution_count": 51,
   "id": "a4661bf4",
   "metadata": {},
   "outputs": [
    {
     "data": {
      "text/plain": [
       "str"
      ]
     },
     "execution_count": 51,
     "metadata": {},
     "output_type": "execute_result"
    }
   ],
   "source": [
    "type(p)"
   ]
  },
  {
   "cell_type": "code",
   "execution_count": 52,
   "id": "04a659b4",
   "metadata": {},
   "outputs": [],
   "source": [
    "q = 'Python is the '"
   ]
  },
  {
   "cell_type": "code",
   "execution_count": 53,
   "id": "3f8d5ed0",
   "metadata": {},
   "outputs": [],
   "source": [
    "r = 'programming language'"
   ]
  },
  {
   "cell_type": "code",
   "execution_count": 54,
   "id": "3dfe7aa3",
   "metadata": {},
   "outputs": [
    {
     "data": {
      "text/plain": [
       "'Python is the programming language'"
      ]
     },
     "execution_count": 54,
     "metadata": {},
     "output_type": "execute_result"
    }
   ],
   "source": [
    "q + r"
   ]
  },
  {
   "cell_type": "code",
   "execution_count": 55,
   "id": "ddeb77a0",
   "metadata": {},
   "outputs": [],
   "source": [
    "t = 'pandas is an open-source library for importing and exporting data, merging data sets, dropping and '"
   ]
  },
  {
   "cell_type": "code",
   "execution_count": 56,
   "id": "d35dabf7",
   "metadata": {},
   "outputs": [],
   "source": [
    "s = 'renaming columns, conducting descriptive analyses, and other data-manipulation tasks. '"
   ]
  },
  {
   "cell_type": "code",
   "execution_count": 57,
   "id": "f1b6b5fa",
   "metadata": {},
   "outputs": [
    {
     "data": {
      "text/plain": [
       "'pandas is an open-source library for importing and exporting data, merging data sets, dropping and renaming columns, conducting descriptive analyses, and other data-manipulation tasks. '"
      ]
     },
     "execution_count": 57,
     "metadata": {},
     "output_type": "execute_result"
    }
   ],
   "source": [
    "t + s"
   ]
  },
  {
   "cell_type": "code",
   "execution_count": null,
   "id": "c8a98981",
   "metadata": {},
   "outputs": [],
   "source": []
  }
 ],
 "metadata": {
  "kernelspec": {
   "display_name": "Python 3 (ipykernel)",
   "language": "python",
   "name": "python3"
  },
  "language_info": {
   "codemirror_mode": {
    "name": "ipython",
    "version": 3
   },
   "file_extension": ".py",
   "mimetype": "text/x-python",
   "name": "python",
   "nbconvert_exporter": "python",
   "pygments_lexer": "ipython3",
   "version": "3.10.9"
  }
 },
 "nbformat": 4,
 "nbformat_minor": 5
}
