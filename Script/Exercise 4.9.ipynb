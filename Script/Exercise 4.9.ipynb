{
 "cells": [
  {
   "cell_type": "code",
   "execution_count": 3,
   "id": "cbe759cb",
   "metadata": {},
   "outputs": [],
   "source": [
    "import pandas as pd\n",
    "import numpy as np\n",
    "import os\n",
    "import matplotlib.pyplot as plt\n",
    "import seaborn as sns\n",
    "import scipy"
   ]
  },
  {
   "cell_type": "code",
   "execution_count": 4,
   "id": "df8369c8",
   "metadata": {},
   "outputs": [],
   "source": [
    "path = r'/Users/priyankamittal/Desktop/Data Analytics/CareerFoundry/Immersion/Python/07-2023 Instacart Basket Analysis'"
   ]
  },
  {
   "cell_type": "code",
   "execution_count": 9,
   "id": "ac7bdb16",
   "metadata": {},
   "outputs": [
    {
     "data": {
      "text/plain": [
       "'/Users/priyankamittal/Desktop/Data Analytics/CareerFoundry/Immersion/Python/07-2023 Instacart Basket Analysis'"
      ]
     },
     "execution_count": 9,
     "metadata": {},
     "output_type": "execute_result"
    }
   ],
   "source": [
    "path"
   ]
  },
  {
   "cell_type": "code",
   "execution_count": 10,
   "id": "66519d61",
   "metadata": {},
   "outputs": [],
   "source": [
    "#read the pickle file\n",
    "ords_prods_merge = pd.read_pickle(os.path.join(path, 'Data', 'Prepared Data', 'orders_products_merged_updated_2.pkl'))"
   ]
  },
  {
   "cell_type": "code",
   "execution_count": 12,
   "id": "87858eb1",
   "metadata": {},
   "outputs": [
    {
     "data": {
      "text/html": [
       "<div>\n",
       "<style scoped>\n",
       "    .dataframe tbody tr th:only-of-type {\n",
       "        vertical-align: middle;\n",
       "    }\n",
       "\n",
       "    .dataframe tbody tr th {\n",
       "        vertical-align: top;\n",
       "    }\n",
       "\n",
       "    .dataframe thead th {\n",
       "        text-align: right;\n",
       "    }\n",
       "</style>\n",
       "<table border=\"1\" class=\"dataframe\">\n",
       "  <thead>\n",
       "    <tr style=\"text-align: right;\">\n",
       "      <th></th>\n",
       "      <th>order_id</th>\n",
       "      <th>user_id</th>\n",
       "      <th>eval_set</th>\n",
       "      <th>order_number</th>\n",
       "      <th>order_day_of_week</th>\n",
       "      <th>order_hour_of_day</th>\n",
       "      <th>days_since_prior_order</th>\n",
       "      <th>product_id</th>\n",
       "      <th>add_to_cart_order</th>\n",
       "      <th>reordered</th>\n",
       "      <th>...</th>\n",
       "      <th>price_range_loc</th>\n",
       "      <th>busiest_day</th>\n",
       "      <th>busiest_days</th>\n",
       "      <th>busiest_period_of_day</th>\n",
       "      <th>max_order</th>\n",
       "      <th>Loyality Flag</th>\n",
       "      <th>average_price</th>\n",
       "      <th>spending_flag</th>\n",
       "      <th>median_prior_orders</th>\n",
       "      <th>order_frequency_flag</th>\n",
       "    </tr>\n",
       "  </thead>\n",
       "  <tbody>\n",
       "    <tr>\n",
       "      <th>0</th>\n",
       "      <td>2539329.0</td>\n",
       "      <td>1.0</td>\n",
       "      <td>prior</td>\n",
       "      <td>1.0</td>\n",
       "      <td>2.0</td>\n",
       "      <td>8.0</td>\n",
       "      <td>NaN</td>\n",
       "      <td>196.0</td>\n",
       "      <td>1.0</td>\n",
       "      <td>0.0</td>\n",
       "      <td>...</td>\n",
       "      <td>Mid-range Products</td>\n",
       "      <td>Regularly busy</td>\n",
       "      <td>Regularly busy days</td>\n",
       "      <td>Average orders</td>\n",
       "      <td>10.0</td>\n",
       "      <td>New Customer</td>\n",
       "      <td>6.37</td>\n",
       "      <td>Low spender</td>\n",
       "      <td>20.5</td>\n",
       "      <td>Non-frequent customer</td>\n",
       "    </tr>\n",
       "    <tr>\n",
       "      <th>1</th>\n",
       "      <td>2398795.0</td>\n",
       "      <td>1.0</td>\n",
       "      <td>prior</td>\n",
       "      <td>2.0</td>\n",
       "      <td>3.0</td>\n",
       "      <td>7.0</td>\n",
       "      <td>15.0</td>\n",
       "      <td>196.0</td>\n",
       "      <td>1.0</td>\n",
       "      <td>1.0</td>\n",
       "      <td>...</td>\n",
       "      <td>Mid-range Products</td>\n",
       "      <td>Regularly busy</td>\n",
       "      <td>Least Busy days</td>\n",
       "      <td>Average orders</td>\n",
       "      <td>10.0</td>\n",
       "      <td>New Customer</td>\n",
       "      <td>6.37</td>\n",
       "      <td>Low spender</td>\n",
       "      <td>20.5</td>\n",
       "      <td>Non-frequent customer</td>\n",
       "    </tr>\n",
       "    <tr>\n",
       "      <th>2</th>\n",
       "      <td>473747.0</td>\n",
       "      <td>1.0</td>\n",
       "      <td>prior</td>\n",
       "      <td>3.0</td>\n",
       "      <td>3.0</td>\n",
       "      <td>12.0</td>\n",
       "      <td>21.0</td>\n",
       "      <td>196.0</td>\n",
       "      <td>1.0</td>\n",
       "      <td>1.0</td>\n",
       "      <td>...</td>\n",
       "      <td>Mid-range Products</td>\n",
       "      <td>Regularly busy</td>\n",
       "      <td>Least Busy days</td>\n",
       "      <td>Most orders</td>\n",
       "      <td>10.0</td>\n",
       "      <td>New Customer</td>\n",
       "      <td>6.37</td>\n",
       "      <td>Low spender</td>\n",
       "      <td>20.5</td>\n",
       "      <td>Non-frequent customer</td>\n",
       "    </tr>\n",
       "    <tr>\n",
       "      <th>3</th>\n",
       "      <td>2254736.0</td>\n",
       "      <td>1.0</td>\n",
       "      <td>prior</td>\n",
       "      <td>4.0</td>\n",
       "      <td>4.0</td>\n",
       "      <td>7.0</td>\n",
       "      <td>29.0</td>\n",
       "      <td>196.0</td>\n",
       "      <td>1.0</td>\n",
       "      <td>1.0</td>\n",
       "      <td>...</td>\n",
       "      <td>Mid-range Products</td>\n",
       "      <td>Least Busy</td>\n",
       "      <td>Least Busy days</td>\n",
       "      <td>Average orders</td>\n",
       "      <td>10.0</td>\n",
       "      <td>New Customer</td>\n",
       "      <td>6.37</td>\n",
       "      <td>Low spender</td>\n",
       "      <td>20.5</td>\n",
       "      <td>Non-frequent customer</td>\n",
       "    </tr>\n",
       "    <tr>\n",
       "      <th>4</th>\n",
       "      <td>431534.0</td>\n",
       "      <td>1.0</td>\n",
       "      <td>prior</td>\n",
       "      <td>5.0</td>\n",
       "      <td>4.0</td>\n",
       "      <td>15.0</td>\n",
       "      <td>28.0</td>\n",
       "      <td>196.0</td>\n",
       "      <td>1.0</td>\n",
       "      <td>1.0</td>\n",
       "      <td>...</td>\n",
       "      <td>Mid-range Products</td>\n",
       "      <td>Least Busy</td>\n",
       "      <td>Least Busy days</td>\n",
       "      <td>Most orders</td>\n",
       "      <td>10.0</td>\n",
       "      <td>New Customer</td>\n",
       "      <td>6.37</td>\n",
       "      <td>Low spender</td>\n",
       "      <td>20.5</td>\n",
       "      <td>Non-frequent customer</td>\n",
       "    </tr>\n",
       "  </tbody>\n",
       "</table>\n",
       "<p>5 rows × 25 columns</p>\n",
       "</div>"
      ],
      "text/plain": [
       "    order_id  user_id eval_set  order_number  order_day_of_week  \\\n",
       "0  2539329.0      1.0    prior           1.0                2.0   \n",
       "1  2398795.0      1.0    prior           2.0                3.0   \n",
       "2   473747.0      1.0    prior           3.0                3.0   \n",
       "3  2254736.0      1.0    prior           4.0                4.0   \n",
       "4   431534.0      1.0    prior           5.0                4.0   \n",
       "\n",
       "   order_hour_of_day  days_since_prior_order  product_id  add_to_cart_order  \\\n",
       "0                8.0                     NaN       196.0                1.0   \n",
       "1                7.0                    15.0       196.0                1.0   \n",
       "2               12.0                    21.0       196.0                1.0   \n",
       "3                7.0                    29.0       196.0                1.0   \n",
       "4               15.0                    28.0       196.0                1.0   \n",
       "\n",
       "   reordered  ...     price_range_loc     busiest_day         busiest_days  \\\n",
       "0        0.0  ...  Mid-range Products  Regularly busy  Regularly busy days   \n",
       "1        1.0  ...  Mid-range Products  Regularly busy      Least Busy days   \n",
       "2        1.0  ...  Mid-range Products  Regularly busy      Least Busy days   \n",
       "3        1.0  ...  Mid-range Products      Least Busy      Least Busy days   \n",
       "4        1.0  ...  Mid-range Products      Least Busy      Least Busy days   \n",
       "\n",
       "   busiest_period_of_day max_order Loyality Flag average_price spending_flag  \\\n",
       "0         Average orders      10.0  New Customer          6.37   Low spender   \n",
       "1         Average orders      10.0  New Customer          6.37   Low spender   \n",
       "2            Most orders      10.0  New Customer          6.37   Low spender   \n",
       "3         Average orders      10.0  New Customer          6.37   Low spender   \n",
       "4            Most orders      10.0  New Customer          6.37   Low spender   \n",
       "\n",
       "  median_prior_orders   order_frequency_flag  \n",
       "0                20.5  Non-frequent customer  \n",
       "1                20.5  Non-frequent customer  \n",
       "2                20.5  Non-frequent customer  \n",
       "3                20.5  Non-frequent customer  \n",
       "4                20.5  Non-frequent customer  \n",
       "\n",
       "[5 rows x 25 columns]"
      ]
     },
     "execution_count": 12,
     "metadata": {},
     "output_type": "execute_result"
    }
   ],
   "source": [
    "ords_prods_merge.head()"
   ]
  },
  {
   "cell_type": "markdown",
   "id": "779014da",
   "metadata": {},
   "source": [
    "## Bar Chart"
   ]
  },
  {
   "cell_type": "code",
   "execution_count": 13,
   "id": "c4b177a6",
   "metadata": {},
   "outputs": [
    {
     "data": {
      "text/plain": [
       "<Axes: >"
      ]
     },
     "execution_count": 13,
     "metadata": {},
     "output_type": "execute_result"
    },
    {
     "data": {
      "image/png": "[encoded data removed]",
      "text/plain": [
       "<Figure size 640x480 with 1 Axes>"
      ]
     },
     "metadata": {},
     "output_type": "display_data"
    }
   ],
   "source": [
    "ords_prods_merge['order_day_of_week'].value_counts().plot.bar()"
   ]
  },
  {
   "cell_type": "code",
   "execution_count": 14,
   "id": "55ff0894",
   "metadata": {},
   "outputs": [
    {
     "data": {
      "text/plain": [
       "<Axes: >"
      ]
     },
     "execution_count": 14,
     "metadata": {},
     "output_type": "execute_result"
    },
    {
     "data": {
      "image/png": "[encoded data removed]",
      "text/plain": [
       "<Figure size 640x480 with 1 Axes>"
      ]
     },
     "metadata": {},
     "output_type": "display_data"
    }
   ],
   "source": [
    "#sort_index() function will sort the bars in your chart according to their index order (rather than largest to smallest).\n",
    "ords_prods_merge['order_day_of_week'].value_counts().sort_index().plot.bar()"
   ]
  },
  {
   "cell_type": "code",
   "execution_count": 15,
   "id": "3286a54d",
   "metadata": {},
   "outputs": [
    {
     "data": {
      "text/plain": [
       "0.0    4674219\n",
       "1.0    4223334\n",
       "6.0    3311729\n",
       "2.0    3090657\n",
       "5.0    3067102\n",
       "3.0    2793338\n",
       "4.0    2750599\n",
       "Name: order_day_of_week, dtype: int64"
      ]
     },
     "execution_count": 15,
     "metadata": {},
     "output_type": "execute_result"
    }
   ],
   "source": [
    "ords_prods_merge['order_day_of_week'].value_counts()"
   ]
  },
  {
   "cell_type": "code",
   "execution_count": 16,
   "id": "6f7f8f26",
   "metadata": {},
   "outputs": [
    {
     "data": {
      "text/plain": [
       "0.0    4674219\n",
       "1.0    4223334\n",
       "2.0    3090657\n",
       "3.0    2793338\n",
       "4.0    2750599\n",
       "5.0    3067102\n",
       "6.0    3311729\n",
       "Name: order_day_of_week, dtype: int64"
      ]
     },
     "execution_count": 16,
     "metadata": {},
     "output_type": "execute_result"
    }
   ],
   "source": [
    "ords_prods_merge['order_day_of_week'].value_counts().sort_index()"
   ]
  },
  {
   "cell_type": "code",
   "execution_count": 19,
   "id": "eb894fd7",
   "metadata": {},
   "outputs": [
    {
     "data": {
      "text/plain": [
       "<Axes: >"
      ]
     },
     "execution_count": 19,
     "metadata": {},
     "output_type": "execute_result"
    },
    {
     "data": {
      "image/png": "[encoded data removed]",
      "text/plain": [
       "<Figure size 640x480 with 1 Axes>"
      ]
     },
     "metadata": {},
     "output_type": "display_data"
    }
   ],
   "source": [
    "ords_prods_merge['order_day_of_week'].value_counts().plot.bar(color = ['pink','purple','yellow','grey','blue','green','brown'])"
   ]
  },
  {
   "cell_type": "code",
   "execution_count": 21,
   "id": "da1e695e",
   "metadata": {},
   "outputs": [
    {
     "data": {
      "image/png": "[encoded data removed]",
      "text/plain": [
       "<Figure size 640x480 with 1 Axes>"
      ]
     },
     "metadata": {},
     "output_type": "display_data"
    }
   ],
   "source": [
    "bar = ords_prods_merge['order_day_of_week'].value_counts().plot.bar(color =['purple', 'red', 'pink', 'orange', 'yellow', 'green', 'blue'])"
   ]
  },
  {
   "cell_type": "markdown",
   "id": "a76e9b4b",
   "metadata": {},
   "source": [
    "## Importing charts"
   ]
  },
  {
   "cell_type": "code",
   "execution_count": 23,
   "id": "5224f0df",
   "metadata": {},
   "outputs": [],
   "source": [
    "bar.figure.savefig(os.path.join(path, 'Analysis','Visualizations', 'bar_orders_dow.png'))"
   ]
  },
  {
   "cell_type": "markdown",
   "id": "3351a9f0",
   "metadata": {},
   "source": [
    "## Creating Histograms and Scatterplots"
   ]
  },
  {
   "cell_type": "code",
   "execution_count": 24,
   "id": "cb64c094",
   "metadata": {},
   "outputs": [
    {
     "data": {
      "text/plain": [
       "<Axes: ylabel='Frequency'>"
      ]
     },
     "execution_count": 24,
     "metadata": {},
     "output_type": "execute_result"
    },
    {
     "data": {
      "image/png": "[encoded data removed]",
      "text/plain": [
       "<Figure size 640x480 with 1 Axes>"
      ]
     },
     "metadata": {},
     "output_type": "display_data"
    }
   ],
   "source": [
    "ords_prods_merge['prices'].plot.hist(bins = 25)"
   ]
  },
  {
   "cell_type": "code",
   "execution_count": 25,
   "id": "3ae072fa",
   "metadata": {},
   "outputs": [
    {
     "data": {
      "text/plain": [
       "count    2.391098e+07\n",
       "mean     1.062577e+01\n",
       "std      2.027057e+02\n",
       "min      1.000000e+00\n",
       "25%      4.400000e+00\n",
       "50%      7.500000e+00\n",
       "75%      1.130000e+01\n",
       "max      1.490000e+04\n",
       "Name: prices, dtype: float64"
      ]
     },
     "execution_count": 25,
     "metadata": {},
     "output_type": "execute_result"
    }
   ],
   "source": [
    "ords_prods_merge['prices'].describe()"
   ]
  },
  {
   "cell_type": "code",
   "execution_count": 27,
   "id": "f020297e",
   "metadata": {},
   "outputs": [
    {
     "data": {
      "text/plain": [
       "10.62576637392246"
      ]
     },
     "execution_count": 27,
     "metadata": {},
     "output_type": "execute_result"
    }
   ],
   "source": [
    "ords_prods_merge['prices'].mean()"
   ]
  },
  {
   "cell_type": "code",
   "execution_count": 29,
   "id": "f3c3183e",
   "metadata": {},
   "outputs": [
    {
     "data": {
      "text/plain": [
       "14900.0"
      ]
     },
     "execution_count": 29,
     "metadata": {},
     "output_type": "execute_result"
    }
   ],
   "source": [
    "ords_prods_merge['prices'].max()"
   ]
  },
  {
   "cell_type": "code",
   "execution_count": 30,
   "id": "20c60520",
   "metadata": {},
   "outputs": [
    {
     "data": {
      "text/plain": [
       "1.0"
      ]
     },
     "execution_count": 30,
     "metadata": {},
     "output_type": "execute_result"
    }
   ],
   "source": [
    "ords_prods_merge['prices'].min()"
   ]
  },
  {
   "cell_type": "code",
   "execution_count": 31,
   "id": "0ad7a39c",
   "metadata": {},
   "outputs": [
    {
     "data": {
      "text/plain": [
       "<Axes: xlabel='prices', ylabel='prices'>"
      ]
     },
     "execution_count": 31,
     "metadata": {},
     "output_type": "execute_result"
    },
    {
     "data": {
      "image/png": "[encoded data removed]",
      "text/plain": [
       "<Figure size 640x480 with 1 Axes>"
      ]
     },
     "metadata": {},
     "output_type": "display_data"
    }
   ],
   "source": [
    "sns.scatterplot(x = 'prices', y = 'prices', data = ords_prods_merge)"
   ]
  },
  {
   "cell_type": "code",
   "execution_count": 34,
   "id": "07601a96",
   "metadata": {},
   "outputs": [],
   "source": [
    "pd.options.display.max_columns = None"
   ]
  },
  {
   "cell_type": "code",
   "execution_count": 35,
   "id": "99041f25",
   "metadata": {},
   "outputs": [
    {
     "data": {
      "text/html": [
       "<div>\n",
       "<style scoped>\n",
       "    .dataframe tbody tr th:only-of-type {\n",
       "        vertical-align: middle;\n",
       "    }\n",
       "\n",
       "    .dataframe tbody tr th {\n",
       "        vertical-align: top;\n",
       "    }\n",
       "\n",
       "    .dataframe thead th {\n",
       "        text-align: right;\n",
       "    }\n",
       "</style>\n",
       "<table border=\"1\" class=\"dataframe\">\n",
       "  <thead>\n",
       "    <tr style=\"text-align: right;\">\n",
       "      <th></th>\n",
       "      <th>order_id</th>\n",
       "      <th>user_id</th>\n",
       "      <th>eval_set</th>\n",
       "      <th>order_number</th>\n",
       "      <th>order_day_of_week</th>\n",
       "      <th>order_hour_of_day</th>\n",
       "      <th>days_since_prior_order</th>\n",
       "      <th>product_id</th>\n",
       "      <th>add_to_cart_order</th>\n",
       "      <th>reordered</th>\n",
       "      <th>product_name</th>\n",
       "      <th>aisle_id</th>\n",
       "      <th>department_id</th>\n",
       "      <th>prices</th>\n",
       "      <th>_merge</th>\n",
       "      <th>price_range_loc</th>\n",
       "      <th>busiest_day</th>\n",
       "      <th>busiest_days</th>\n",
       "      <th>busiest_period_of_day</th>\n",
       "      <th>max_order</th>\n",
       "      <th>Loyality Flag</th>\n",
       "      <th>average_price</th>\n",
       "      <th>spending_flag</th>\n",
       "      <th>median_prior_orders</th>\n",
       "      <th>order_frequency_flag</th>\n",
       "    </tr>\n",
       "  </thead>\n",
       "  <tbody>\n",
       "    <tr>\n",
       "      <th>10030345</th>\n",
       "      <td>912404.0</td>\n",
       "      <td>17.0</td>\n",
       "      <td>prior</td>\n",
       "      <td>12.0</td>\n",
       "      <td>2.0</td>\n",
       "      <td>14.0</td>\n",
       "      <td>5.0</td>\n",
       "      <td>21553.0</td>\n",
       "      <td>5.0</td>\n",
       "      <td>0.0</td>\n",
       "      <td>Lowfat 2% Milkfat Cottage Cheese</td>\n",
       "      <td>108.0</td>\n",
       "      <td>16.0</td>\n",
       "      <td>14900.0</td>\n",
       "      <td>both</td>\n",
       "      <td>High-range Products</td>\n",
       "      <td>Regularly busy</td>\n",
       "      <td>Regularly busy days</td>\n",
       "      <td>Most orders</td>\n",
       "      <td>40.0</td>\n",
       "      <td>Regular Customer</td>\n",
       "      <td>108.65</td>\n",
       "      <td>High spender</td>\n",
       "      <td>5.0</td>\n",
       "      <td>Frequent customer</td>\n",
       "    </tr>\n",
       "    <tr>\n",
       "      <th>10030346</th>\n",
       "      <td>603376.0</td>\n",
       "      <td>17.0</td>\n",
       "      <td>prior</td>\n",
       "      <td>22.0</td>\n",
       "      <td>6.0</td>\n",
       "      <td>16.0</td>\n",
       "      <td>4.0</td>\n",
       "      <td>21553.0</td>\n",
       "      <td>3.0</td>\n",
       "      <td>1.0</td>\n",
       "      <td>Lowfat 2% Milkfat Cottage Cheese</td>\n",
       "      <td>108.0</td>\n",
       "      <td>16.0</td>\n",
       "      <td>14900.0</td>\n",
       "      <td>both</td>\n",
       "      <td>High-range Products</td>\n",
       "      <td>Regularly busy</td>\n",
       "      <td>Regularly busy days</td>\n",
       "      <td>Most orders</td>\n",
       "      <td>40.0</td>\n",
       "      <td>Regular Customer</td>\n",
       "      <td>108.65</td>\n",
       "      <td>High spender</td>\n",
       "      <td>5.0</td>\n",
       "      <td>Frequent customer</td>\n",
       "    </tr>\n",
       "    <tr>\n",
       "      <th>10030347</th>\n",
       "      <td>3264360.0</td>\n",
       "      <td>135.0</td>\n",
       "      <td>prior</td>\n",
       "      <td>2.0</td>\n",
       "      <td>2.0</td>\n",
       "      <td>21.0</td>\n",
       "      <td>13.0</td>\n",
       "      <td>21553.0</td>\n",
       "      <td>6.0</td>\n",
       "      <td>0.0</td>\n",
       "      <td>Lowfat 2% Milkfat Cottage Cheese</td>\n",
       "      <td>108.0</td>\n",
       "      <td>16.0</td>\n",
       "      <td>14900.0</td>\n",
       "      <td>both</td>\n",
       "      <td>High-range Products</td>\n",
       "      <td>Regularly busy</td>\n",
       "      <td>Regularly busy days</td>\n",
       "      <td>Average orders</td>\n",
       "      <td>4.0</td>\n",
       "      <td>New Customer</td>\n",
       "      <td>1154.79</td>\n",
       "      <td>High spender</td>\n",
       "      <td>12.0</td>\n",
       "      <td>Regular customer</td>\n",
       "    </tr>\n",
       "    <tr>\n",
       "      <th>10030348</th>\n",
       "      <td>892534.0</td>\n",
       "      <td>135.0</td>\n",
       "      <td>prior</td>\n",
       "      <td>3.0</td>\n",
       "      <td>0.0</td>\n",
       "      <td>8.0</td>\n",
       "      <td>12.0</td>\n",
       "      <td>21553.0</td>\n",
       "      <td>3.0</td>\n",
       "      <td>1.0</td>\n",
       "      <td>Lowfat 2% Milkfat Cottage Cheese</td>\n",
       "      <td>108.0</td>\n",
       "      <td>16.0</td>\n",
       "      <td>14900.0</td>\n",
       "      <td>both</td>\n",
       "      <td>High-range Products</td>\n",
       "      <td>Busiest day</td>\n",
       "      <td>Busiest days</td>\n",
       "      <td>Average orders</td>\n",
       "      <td>4.0</td>\n",
       "      <td>New Customer</td>\n",
       "      <td>1154.79</td>\n",
       "      <td>High spender</td>\n",
       "      <td>12.0</td>\n",
       "      <td>Regular customer</td>\n",
       "    </tr>\n",
       "    <tr>\n",
       "      <th>10030349</th>\n",
       "      <td>229704.0</td>\n",
       "      <td>342.0</td>\n",
       "      <td>prior</td>\n",
       "      <td>8.0</td>\n",
       "      <td>1.0</td>\n",
       "      <td>19.0</td>\n",
       "      <td>30.0</td>\n",
       "      <td>21553.0</td>\n",
       "      <td>9.0</td>\n",
       "      <td>0.0</td>\n",
       "      <td>Lowfat 2% Milkfat Cottage Cheese</td>\n",
       "      <td>108.0</td>\n",
       "      <td>16.0</td>\n",
       "      <td>14900.0</td>\n",
       "      <td>both</td>\n",
       "      <td>High-range Products</td>\n",
       "      <td>Regularly busy</td>\n",
       "      <td>Busiest days</td>\n",
       "      <td>Average orders</td>\n",
       "      <td>16.0</td>\n",
       "      <td>Regular Customer</td>\n",
       "      <td>199.51</td>\n",
       "      <td>High spender</td>\n",
       "      <td>23.0</td>\n",
       "      <td>Non-frequent customer</td>\n",
       "    </tr>\n",
       "    <tr>\n",
       "      <th>...</th>\n",
       "      <td>...</td>\n",
       "      <td>...</td>\n",
       "      <td>...</td>\n",
       "      <td>...</td>\n",
       "      <td>...</td>\n",
       "      <td>...</td>\n",
       "      <td>...</td>\n",
       "      <td>...</td>\n",
       "      <td>...</td>\n",
       "      <td>...</td>\n",
       "      <td>...</td>\n",
       "      <td>...</td>\n",
       "      <td>...</td>\n",
       "      <td>...</td>\n",
       "      <td>...</td>\n",
       "      <td>...</td>\n",
       "      <td>...</td>\n",
       "      <td>...</td>\n",
       "      <td>...</td>\n",
       "      <td>...</td>\n",
       "      <td>...</td>\n",
       "      <td>...</td>\n",
       "      <td>...</td>\n",
       "      <td>...</td>\n",
       "      <td>...</td>\n",
       "    </tr>\n",
       "    <tr>\n",
       "      <th>10034769</th>\n",
       "      <td>3172853.0</td>\n",
       "      <td>205650.0</td>\n",
       "      <td>prior</td>\n",
       "      <td>18.0</td>\n",
       "      <td>1.0</td>\n",
       "      <td>9.0</td>\n",
       "      <td>7.0</td>\n",
       "      <td>21553.0</td>\n",
       "      <td>17.0</td>\n",
       "      <td>1.0</td>\n",
       "      <td>Lowfat 2% Milkfat Cottage Cheese</td>\n",
       "      <td>108.0</td>\n",
       "      <td>16.0</td>\n",
       "      <td>14900.0</td>\n",
       "      <td>both</td>\n",
       "      <td>High-range Products</td>\n",
       "      <td>Regularly busy</td>\n",
       "      <td>Busiest days</td>\n",
       "      <td>Most orders</td>\n",
       "      <td>25.0</td>\n",
       "      <td>Regular Customer</td>\n",
       "      <td>470.71</td>\n",
       "      <td>High spender</td>\n",
       "      <td>6.0</td>\n",
       "      <td>Frequent customer</td>\n",
       "    </tr>\n",
       "    <tr>\n",
       "      <th>10034770</th>\n",
       "      <td>2504315.0</td>\n",
       "      <td>205818.0</td>\n",
       "      <td>prior</td>\n",
       "      <td>3.0</td>\n",
       "      <td>5.0</td>\n",
       "      <td>15.0</td>\n",
       "      <td>3.0</td>\n",
       "      <td>21553.0</td>\n",
       "      <td>13.0</td>\n",
       "      <td>0.0</td>\n",
       "      <td>Lowfat 2% Milkfat Cottage Cheese</td>\n",
       "      <td>108.0</td>\n",
       "      <td>16.0</td>\n",
       "      <td>14900.0</td>\n",
       "      <td>both</td>\n",
       "      <td>High-range Products</td>\n",
       "      <td>Regularly busy</td>\n",
       "      <td>Regularly busy days</td>\n",
       "      <td>Most orders</td>\n",
       "      <td>25.0</td>\n",
       "      <td>Regular Customer</td>\n",
       "      <td>385.16</td>\n",
       "      <td>High spender</td>\n",
       "      <td>11.0</td>\n",
       "      <td>Regular customer</td>\n",
       "    </tr>\n",
       "    <tr>\n",
       "      <th>10034771</th>\n",
       "      <td>1108388.0</td>\n",
       "      <td>205818.0</td>\n",
       "      <td>prior</td>\n",
       "      <td>5.0</td>\n",
       "      <td>4.0</td>\n",
       "      <td>5.0</td>\n",
       "      <td>1.0</td>\n",
       "      <td>21553.0</td>\n",
       "      <td>5.0</td>\n",
       "      <td>1.0</td>\n",
       "      <td>Lowfat 2% Milkfat Cottage Cheese</td>\n",
       "      <td>108.0</td>\n",
       "      <td>16.0</td>\n",
       "      <td>14900.0</td>\n",
       "      <td>both</td>\n",
       "      <td>High-range Products</td>\n",
       "      <td>Least Busy</td>\n",
       "      <td>Least Busy days</td>\n",
       "      <td>Fewest orders</td>\n",
       "      <td>25.0</td>\n",
       "      <td>Regular Customer</td>\n",
       "      <td>385.16</td>\n",
       "      <td>High spender</td>\n",
       "      <td>11.0</td>\n",
       "      <td>Regular customer</td>\n",
       "    </tr>\n",
       "    <tr>\n",
       "      <th>10034772</th>\n",
       "      <td>1916142.0</td>\n",
       "      <td>206049.0</td>\n",
       "      <td>prior</td>\n",
       "      <td>1.0</td>\n",
       "      <td>2.0</td>\n",
       "      <td>17.0</td>\n",
       "      <td>NaN</td>\n",
       "      <td>21553.0</td>\n",
       "      <td>2.0</td>\n",
       "      <td>0.0</td>\n",
       "      <td>Lowfat 2% Milkfat Cottage Cheese</td>\n",
       "      <td>108.0</td>\n",
       "      <td>16.0</td>\n",
       "      <td>14900.0</td>\n",
       "      <td>both</td>\n",
       "      <td>High-range Products</td>\n",
       "      <td>Regularly busy</td>\n",
       "      <td>Regularly busy days</td>\n",
       "      <td>Average orders</td>\n",
       "      <td>5.0</td>\n",
       "      <td>New Customer</td>\n",
       "      <td>1868.00</td>\n",
       "      <td>High spender</td>\n",
       "      <td>15.0</td>\n",
       "      <td>Regular customer</td>\n",
       "    </tr>\n",
       "    <tr>\n",
       "      <th>10034773</th>\n",
       "      <td>379732.0</td>\n",
       "      <td>206049.0</td>\n",
       "      <td>prior</td>\n",
       "      <td>4.0</td>\n",
       "      <td>1.0</td>\n",
       "      <td>14.0</td>\n",
       "      <td>5.0</td>\n",
       "      <td>21553.0</td>\n",
       "      <td>4.0</td>\n",
       "      <td>1.0</td>\n",
       "      <td>Lowfat 2% Milkfat Cottage Cheese</td>\n",
       "      <td>108.0</td>\n",
       "      <td>16.0</td>\n",
       "      <td>14900.0</td>\n",
       "      <td>both</td>\n",
       "      <td>High-range Products</td>\n",
       "      <td>Regularly busy</td>\n",
       "      <td>Busiest days</td>\n",
       "      <td>Most orders</td>\n",
       "      <td>5.0</td>\n",
       "      <td>New Customer</td>\n",
       "      <td>1868.00</td>\n",
       "      <td>High spender</td>\n",
       "      <td>15.0</td>\n",
       "      <td>Regular customer</td>\n",
       "    </tr>\n",
       "  </tbody>\n",
       "</table>\n",
       "<p>4429 rows × 25 columns</p>\n",
       "</div>"
      ],
      "text/plain": [
       "           order_id   user_id eval_set  order_number  order_day_of_week  \\\n",
       "10030345   912404.0      17.0    prior          12.0                2.0   \n",
       "10030346   603376.0      17.0    prior          22.0                6.0   \n",
       "10030347  3264360.0     135.0    prior           2.0                2.0   \n",
       "10030348   892534.0     135.0    prior           3.0                0.0   \n",
       "10030349   229704.0     342.0    prior           8.0                1.0   \n",
       "...             ...       ...      ...           ...                ...   \n",
       "10034769  3172853.0  205650.0    prior          18.0                1.0   \n",
       "10034770  2504315.0  205818.0    prior           3.0                5.0   \n",
       "10034771  1108388.0  205818.0    prior           5.0                4.0   \n",
       "10034772  1916142.0  206049.0    prior           1.0                2.0   \n",
       "10034773   379732.0  206049.0    prior           4.0                1.0   \n",
       "\n",
       "          order_hour_of_day  days_since_prior_order  product_id  \\\n",
       "10030345               14.0                     5.0     21553.0   \n",
       "10030346               16.0                     4.0     21553.0   \n",
       "10030347               21.0                    13.0     21553.0   \n",
       "10030348                8.0                    12.0     21553.0   \n",
       "10030349               19.0                    30.0     21553.0   \n",
       "...                     ...                     ...         ...   \n",
       "10034769                9.0                     7.0     21553.0   \n",
       "10034770               15.0                     3.0     21553.0   \n",
       "10034771                5.0                     1.0     21553.0   \n",
       "10034772               17.0                     NaN     21553.0   \n",
       "10034773               14.0                     5.0     21553.0   \n",
       "\n",
       "          add_to_cart_order  reordered                      product_name  \\\n",
       "10030345                5.0        0.0  Lowfat 2% Milkfat Cottage Cheese   \n",
       "10030346                3.0        1.0  Lowfat 2% Milkfat Cottage Cheese   \n",
       "10030347                6.0        0.0  Lowfat 2% Milkfat Cottage Cheese   \n",
       "10030348                3.0        1.0  Lowfat 2% Milkfat Cottage Cheese   \n",
       "10030349                9.0        0.0  Lowfat 2% Milkfat Cottage Cheese   \n",
       "...                     ...        ...                               ...   \n",
       "10034769               17.0        1.0  Lowfat 2% Milkfat Cottage Cheese   \n",
       "10034770               13.0        0.0  Lowfat 2% Milkfat Cottage Cheese   \n",
       "10034771                5.0        1.0  Lowfat 2% Milkfat Cottage Cheese   \n",
       "10034772                2.0        0.0  Lowfat 2% Milkfat Cottage Cheese   \n",
       "10034773                4.0        1.0  Lowfat 2% Milkfat Cottage Cheese   \n",
       "\n",
       "          aisle_id  department_id   prices _merge      price_range_loc  \\\n",
       "10030345     108.0           16.0  14900.0   both  High-range Products   \n",
       "10030346     108.0           16.0  14900.0   both  High-range Products   \n",
       "10030347     108.0           16.0  14900.0   both  High-range Products   \n",
       "10030348     108.0           16.0  14900.0   both  High-range Products   \n",
       "10030349     108.0           16.0  14900.0   both  High-range Products   \n",
       "...            ...            ...      ...    ...                  ...   \n",
       "10034769     108.0           16.0  14900.0   both  High-range Products   \n",
       "10034770     108.0           16.0  14900.0   both  High-range Products   \n",
       "10034771     108.0           16.0  14900.0   both  High-range Products   \n",
       "10034772     108.0           16.0  14900.0   both  High-range Products   \n",
       "10034773     108.0           16.0  14900.0   both  High-range Products   \n",
       "\n",
       "             busiest_day         busiest_days busiest_period_of_day  \\\n",
       "10030345  Regularly busy  Regularly busy days           Most orders   \n",
       "10030346  Regularly busy  Regularly busy days           Most orders   \n",
       "10030347  Regularly busy  Regularly busy days        Average orders   \n",
       "10030348     Busiest day         Busiest days        Average orders   \n",
       "10030349  Regularly busy         Busiest days        Average orders   \n",
       "...                  ...                  ...                   ...   \n",
       "10034769  Regularly busy         Busiest days           Most orders   \n",
       "10034770  Regularly busy  Regularly busy days           Most orders   \n",
       "10034771      Least Busy      Least Busy days         Fewest orders   \n",
       "10034772  Regularly busy  Regularly busy days        Average orders   \n",
       "10034773  Regularly busy         Busiest days           Most orders   \n",
       "\n",
       "          max_order     Loyality Flag  average_price spending_flag  \\\n",
       "10030345       40.0  Regular Customer         108.65  High spender   \n",
       "10030346       40.0  Regular Customer         108.65  High spender   \n",
       "10030347        4.0      New Customer        1154.79  High spender   \n",
       "10030348        4.0      New Customer        1154.79  High spender   \n",
       "10030349       16.0  Regular Customer         199.51  High spender   \n",
       "...             ...               ...            ...           ...   \n",
       "10034769       25.0  Regular Customer         470.71  High spender   \n",
       "10034770       25.0  Regular Customer         385.16  High spender   \n",
       "10034771       25.0  Regular Customer         385.16  High spender   \n",
       "10034772        5.0      New Customer        1868.00  High spender   \n",
       "10034773        5.0      New Customer        1868.00  High spender   \n",
       "\n",
       "          median_prior_orders   order_frequency_flag  \n",
       "10030345                  5.0      Frequent customer  \n",
       "10030346                  5.0      Frequent customer  \n",
       "10030347                 12.0       Regular customer  \n",
       "10030348                 12.0       Regular customer  \n",
       "10030349                 23.0  Non-frequent customer  \n",
       "...                       ...                    ...  \n",
       "10034769                  6.0      Frequent customer  \n",
       "10034770                 11.0       Regular customer  \n",
       "10034771                 11.0       Regular customer  \n",
       "10034772                 15.0       Regular customer  \n",
       "10034773                 15.0       Regular customer  \n",
       "\n",
       "[4429 rows x 25 columns]"
      ]
     },
     "execution_count": 35,
     "metadata": {},
     "output_type": "execute_result"
    }
   ],
   "source": [
    "ords_prods_merge.loc[ords_prods_merge['prices'] > 100]"
   ]
  },
  {
   "cell_type": "code",
   "execution_count": 36,
   "id": "c7e793e0",
   "metadata": {},
   "outputs": [],
   "source": [
    "#For now, let’s mark them as missing since they don’t make sense in terms of the other values in the column. To turn them into NaNs, use the following code:\n",
    "\n",
    "ords_prods_merge.loc[ords_prods_merge['prices'] >100, 'prices'] = np.nan"
   ]
  },
  {
   "cell_type": "code",
   "execution_count": 38,
   "id": "1071045f",
   "metadata": {},
   "outputs": [
    {
     "data": {
      "text/plain": [
       "25.0"
      ]
     },
     "execution_count": 38,
     "metadata": {},
     "output_type": "execute_result"
    }
   ],
   "source": [
    "ords_prods_merge['prices'].max()"
   ]
  },
  {
   "cell_type": "code",
   "execution_count": 40,
   "id": "68679ee5",
   "metadata": {},
   "outputs": [
    {
     "data": {
      "image/png": "[encoded data removed]",
      "text/plain": [
       "<Figure size 640x480 with 1 Axes>"
      ]
     },
     "metadata": {},
     "output_type": "display_data"
    }
   ],
   "source": [
    "hist = ords_prods_merge['prices'].plot.hist(bins = 25)"
   ]
  },
  {
   "cell_type": "markdown",
   "id": "38d9b0f7",
   "metadata": {},
   "source": [
    "results make much more sense now: most products are between $1 and $15, while a few are higher priced at $15 to $25. To increase the level of granularity in the histogram, simply increase the number of bins to, say, 70. This will result in a histogram with more, thinner columns:"
   ]
  },
  {
   "cell_type": "code",
   "execution_count": 42,
   "id": "e0db7db3",
   "metadata": {},
   "outputs": [
    {
     "data": {
      "image/png": "[encoded data removed]",
      "text/plain": [
       "<Figure size 640x480 with 1 Axes>"
      ]
     },
     "metadata": {},
     "output_type": "display_data"
    }
   ],
   "source": [
    "hist = ords_prods_merge['prices'].plot.hist(bins = 70)"
   ]
  },
  {
   "cell_type": "code",
   "execution_count": 43,
   "id": "7792e220",
   "metadata": {},
   "outputs": [],
   "source": [
    "hist.figure.savefig((os.path.join(path, 'Analysis','Visualizations', 'hist_orders_prices.png')))"
   ]
  },
  {
   "cell_type": "markdown",
   "id": "291b489c",
   "metadata": {},
   "source": [
    "## Creating Line Charts"
   ]
  },
  {
   "cell_type": "markdown",
   "id": "76123673",
   "metadata": {},
   "source": [
    "There is, however, one major caveat: this line chart will require a great deal of computing power due to the number of unique values in the “prices” column. As such, you’re likely to get a memory error and/or have your browser crash (if you have a machine with less than 16GB RAM maybe keep in mind that attempting this will cost you time to reset and start over). To avoid this, you can use the subsetting method you should be familiar with by now. For example, you might consider only plotting the top or bottom 2,000,000 rows of your dataframe:\n",
    "\n",
    "df = ords_prods_merge[:2000000]\n",
    "But does this work? The answer is, well, no. That’s because this subset wouldn’t be representative of the entire population. How, then, do you tackle a problem like this? The answer is simple—sampling!"
   ]
  },
  {
   "cell_type": "markdown",
   "id": "754282d0",
   "metadata": {},
   "source": [
    "# Sampling Data"
   ]
  },
  {
   "cell_type": "code",
   "execution_count": 47,
   "id": "0e4d0c43",
   "metadata": {},
   "outputs": [],
   "source": [
    "# Create a list holding True/False values to test the np.random.rand() <= 0.7\n",
    "np.random.seed(4)\n",
    "dev = np.random.rand(len(ords_prods_merge)) <= 0.7"
   ]
  },
  {
   "cell_type": "code",
   "execution_count": 48,
   "id": "5f43e271",
   "metadata": {},
   "outputs": [
    {
     "data": {
      "text/plain": [
       "array([False,  True, False, ...,  True, False,  True])"
      ]
     },
     "execution_count": 48,
     "metadata": {},
     "output_type": "execute_result"
    }
   ],
   "source": [
    "dev"
   ]
  },
  {
   "cell_type": "code",
   "execution_count": 49,
   "id": "9d36a257",
   "metadata": {},
   "outputs": [
    {
     "data": {
      "text/plain": [
       "array([0.80166551, 0.24600567, 0.0607275 , 0.17942984, 0.49811979,\n",
       "       0.03361675, 0.8298159 , 0.24319994, 0.38265482, 0.04708542])"
      ]
     },
     "execution_count": 49,
     "metadata": {},
     "output_type": "execute_result"
    }
   ],
   "source": [
    "np.random.rand(10)"
   ]
  },
  {
   "cell_type": "code",
   "execution_count": 50,
   "id": "1d6b12ac",
   "metadata": {},
   "outputs": [],
   "source": [
    "# Store 70% of the data in the big dataframe\n",
    "big = ords_prods_merge[dev]\n"
   ]
  },
  {
   "cell_type": "code",
   "execution_count": 51,
   "id": "d659a10d",
   "metadata": {},
   "outputs": [],
   "source": [
    "# Store 30% of the data in the big dataframe\n",
    "small = ords_prods_merge[~dev]"
   ]
  },
  {
   "cell_type": "code",
   "execution_count": 52,
   "id": "43cd66c3",
   "metadata": {},
   "outputs": [
    {
     "data": {
      "text/plain": [
       "23910979"
      ]
     },
     "execution_count": 52,
     "metadata": {},
     "output_type": "execute_result"
    }
   ],
   "source": [
    "len(ords_prods_merge)"
   ]
  },
  {
   "cell_type": "code",
   "execution_count": 53,
   "id": "08efbed0",
   "metadata": {},
   "outputs": [
    {
     "data": {
      "text/plain": [
       "23910979"
      ]
     },
     "execution_count": 53,
     "metadata": {},
     "output_type": "execute_result"
    }
   ],
   "source": [
    "len(big) + len(small)"
   ]
  },
  {
   "cell_type": "code",
   "execution_count": 55,
   "id": "61bf5876",
   "metadata": {},
   "outputs": [],
   "source": [
    "df_2 = small[['order_day_of_week','prices']]"
   ]
  },
  {
   "cell_type": "code",
   "execution_count": 56,
   "id": "0d992e0c",
   "metadata": {},
   "outputs": [
    {
     "data": {
      "image/png": "[encoded data removed]",
      "text/plain": [
       "<Figure size 640x480 with 1 Axes>"
      ]
     },
     "metadata": {},
     "output_type": "display_data"
    }
   ],
   "source": [
    "line = sns.lineplot(data = df_2, x = 'order_day_of_week',y = 'prices')"
   ]
  },
  {
   "cell_type": "code",
   "execution_count": 58,
   "id": "b5ece365",
   "metadata": {},
   "outputs": [],
   "source": [
    "line.figure.savefig(os.path.join(path,'Analysis', 'Visualizations','link_orders_prices_odow.png'))"
   ]
  },
  {
   "cell_type": "code",
   "execution_count": null,
   "id": "4a1aa463",
   "metadata": {},
   "outputs": [],
   "source": []
  }
 ],
 "metadata": {
  "kernelspec": {
   "display_name": "Python 3 (ipykernel)",
   "language": "python",
   "name": "python3"
  },
  "language_info": {
   "codemirror_mode": {
    "name": "ipython",
    "version": 3
   },
   "file_extension": ".py",
   "mimetype": "text/x-python",
   "name": "python",
   "nbconvert_exporter": "python",
   "pygments_lexer": "ipython3",
   "version": "3.10.9"
  }
 },
 "nbformat": 4,
 "nbformat_minor": 5
}
